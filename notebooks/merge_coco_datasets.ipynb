{
 "cells": [
  {
   "cell_type": "code",
   "execution_count": 34,
   "metadata": {},
   "outputs": [],
   "source": [
    "import json\n",
    "with open('../data/duckie_sim_train.json') as json_file:\n",
    "    sim_data = json.load(json_file)\n",
    "with open('../data/duckie_js_train.json') as json_file:\n",
    "    js_data = json.load(json_file)"
   ]
  },
  {
   "cell_type": "code",
   "execution_count": 16,
   "metadata": {},
   "outputs": [],
   "source": [
    "!mkdir -p merged_dataset\n",
    "!mkdir -p merged_dataset/rgb"
   ]
  },
  {
   "cell_type": "code",
   "execution_count": 17,
   "metadata": {},
   "outputs": [],
   "source": [
    "sim_images = sim_data[\"images\"]"
   ]
  },
  {
   "cell_type": "code",
   "execution_count": 20,
   "metadata": {},
   "outputs": [],
   "source": [
    "js_images = js_data[\"images\"]"
   ]
  },
  {
   "cell_type": "code",
   "execution_count": 23,
   "metadata": {},
   "outputs": [
    {
     "name": "stderr",
     "output_type": "stream",
     "text": [
      "100%|██████████| 10000/10000 [00:00<00:00, 18047.83it/s]\n"
     ]
    }
   ],
   "source": [
    "import shutil\n",
    "from tqdm import tqdm\n",
    "for image in tqdm(js_images):\n",
    "    filename = image[\"file_name\"]\n",
    "    shutil.copy(f\"../data/dt_segmentation_dataset/new/wo_bezier/rgb_orig/{filename}\", f\"merged_dataset/rgb/js_{filename}\")\n",
    "    "
   ]
  },
  {
   "cell_type": "code",
   "execution_count": 25,
   "metadata": {},
   "outputs": [
    {
     "name": "stderr",
     "output_type": "stream",
     "text": [
      "100%|██████████| 50000/50000 [00:14<00:00, 3548.03it/s]\n"
     ]
    }
   ],
   "source": [
    "for image in tqdm(sim_images):\n",
    "    filename = image[\"file_name\"]\n",
    "    shutil.copy(f\"../data/dt_segmentation_dataset/sim/rgb_160_120//{filename}\", f\"merged_dataset/rgb/sim_{filename}\")\n",
    "    "
   ]
  },
  {
   "cell_type": "code",
   "execution_count": 108,
   "metadata": {},
   "outputs": [],
   "source": [
    "#Fresh data\n",
    "with open('../data/duckie_sim_train.json') as json_file:\n",
    "    sim_data = json.load(json_file)\n",
    "with open('../data/duckie_js_train.json') as json_file:\n",
    "    js_data = json.load(json_file)\n",
    "    \n"
   ]
  },
  {
   "cell_type": "code",
   "execution_count": 109,
   "metadata": {},
   "outputs": [],
   "source": [
    "merged_images=[]\n",
    "merged_id = 0\n",
    "js_image_mapping = {}\n",
    "sim_image_mapping = {}\n",
    "for image in js_data[\"images\"]:\n",
    "    new_image = image.copy()\n",
    "    new_image[\"file_name\"] = \"js_\" + image[\"file_name\"]\n",
    "    js_image_mapping[image[\"id\"]] = merged_id\n",
    "    new_image[\"id\"] = merged_id\n",
    "    merged_id+=1\n",
    "    merged_images.append(new_image)\n"
   ]
  },
  {
   "cell_type": "code",
   "execution_count": 110,
   "metadata": {},
   "outputs": [
    {
     "data": {
      "text/plain": [
       "{'file_name': '8313.jpg', 'height': 120, 'width': 160, 'id': 0}"
      ]
     },
     "execution_count": 110,
     "metadata": {},
     "output_type": "execute_result"
    }
   ],
   "source": [
    "js_data[\"images\"][0]"
   ]
  },
  {
   "cell_type": "code",
   "execution_count": 111,
   "metadata": {},
   "outputs": [],
   "source": [
    "for image in sim_data[\"images\"]:\n",
    "    new_image = image.copy()\n",
    "    new_image[\"file_name\"] = \"sim_\" + image[\"file_name\"]\n",
    "    #print(image[\"id\"])\n",
    "    sim_image_mapping[image[\"id\"]] = merged_id\n",
    "    new_image[\"id\"] = merged_id\n",
    "    merged_id+=1\n",
    "    merged_images.append(new_image)"
   ]
  },
  {
   "cell_type": "code",
   "execution_count": 112,
   "metadata": {},
   "outputs": [
    {
     "data": {
      "text/plain": [
       "(60000, 50000, 10000)"
      ]
     },
     "execution_count": 112,
     "metadata": {},
     "output_type": "execute_result"
    }
   ],
   "source": [
    "len(merged_images), len(sim_images), len(js_images)"
   ]
  },
  {
   "cell_type": "code",
   "execution_count": 113,
   "metadata": {},
   "outputs": [],
   "source": [
    "merged_annotations = []"
   ]
  },
  {
   "cell_type": "code",
   "execution_count": 114,
   "metadata": {},
   "outputs": [],
   "source": [
    "#js_data[\"annotations\"][0]"
   ]
  },
  {
   "cell_type": "code",
   "execution_count": 115,
   "metadata": {},
   "outputs": [],
   "source": [
    "annotation_id = 0\n",
    "for annotation in js_data[\"annotations\"]:\n",
    "    new_annotation = annotation.copy()\n",
    "    new_annotation[\"image_id\"] = js_image_mapping[annotation[\"image_id\"]]\n",
    "    new_annotation[\"id\"] = annotation_id\n",
    "    annotation_id+=1\n",
    "    merged_annotations.append(new_annotation)\n",
    "\n"
   ]
  },
  {
   "cell_type": "code",
   "execution_count": 116,
   "metadata": {},
   "outputs": [],
   "source": [
    "for annotation in sim_data[\"annotations\"]:\n",
    "    new_annotation = annotation.copy()\n",
    "    new_annotation[\"image_id\"] = sim_image_mapping[annotation[\"image_id\"]]\n",
    "    new_annotation[\"id\"] = annotation_id\n",
    "    annotation_id+=1\n",
    "    merged_annotations.append(new_annotation)\n",
    "    "
   ]
  },
  {
   "cell_type": "code",
   "execution_count": 117,
   "metadata": {},
   "outputs": [],
   "source": [
    "data={\"categories\":sim_data[\"categories\"], \"images\":merged_images,\"annotations\":merged_annotations}\n",
    "with open(f\"../data/duckie_merged_train.json\",\"w\") as f:\n",
    "    json.dump(data,f)"
   ]
  },
  {
   "cell_type": "code",
   "execution_count": null,
   "metadata": {},
   "outputs": [],
   "source": []
  }
 ],
 "metadata": {
  "kernelspec": {
   "display_name": "Python 3",
   "language": "python",
   "name": "python3"
  },
  "language_info": {
   "codemirror_mode": {
    "name": "ipython",
    "version": 3
   },
   "file_extension": ".py",
   "mimetype": "text/x-python",
   "name": "python",
   "nbconvert_exporter": "python",
   "pygments_lexer": "ipython3",
   "version": "3.8.3"
  }
 },
 "nbformat": 4,
 "nbformat_minor": 4
}
