{
 "cells": [
  {
   "cell_type": "code",
   "execution_count": 133,
   "metadata": {},
   "outputs": [],
   "source": [
    "import json\n",
    "with open('../data/duckie_sim_train.json') as json_file:\n",
    "    sim_data = json.load(json_file)\n",
    "with open('../data/duckie_js_train.json') as json_file:\n",
    "    js_data = json.load(json_file)"
   ]
  },
  {
   "cell_type": "code",
   "execution_count": 124,
   "metadata": {},
   "outputs": [],
   "source": [
    "!mkdir -p merged_dataset\n",
    "!mkdir -p merged_dataset/rgb"
   ]
  },
  {
   "cell_type": "code",
   "execution_count": 134,
   "metadata": {},
   "outputs": [],
   "source": [
    "sim_images = sim_data[\"images\"]"
   ]
  },
  {
   "cell_type": "code",
   "execution_count": 135,
   "metadata": {},
   "outputs": [],
   "source": [
    "js_images = js_data[\"images\"]"
   ]
  },
  {
   "cell_type": "code",
   "execution_count": 136,
   "metadata": {},
   "outputs": [
    {
     "data": {
      "text/plain": [
       "9000"
      ]
     },
     "execution_count": 136,
     "metadata": {},
     "output_type": "execute_result"
    }
   ],
   "source": [
    "len(js_images)"
   ]
  },
  {
   "cell_type": "code",
   "execution_count": 137,
   "metadata": {},
   "outputs": [
    {
     "name": "stderr",
     "output_type": "stream",
     "text": [
      "100%|██████████| 9000/9000 [00:05<00:00, 1654.33it/s]\n"
     ]
    }
   ],
   "source": [
    "import shutil\n",
    "from tqdm import tqdm\n",
    "for image in tqdm(js_images):\n",
    "    filename = image[\"file_name\"]\n",
    "    shutil.copy(f\"../data/dt_segmentation_dataset/new/wo_bezier/rgb_orig/{filename}\", f\"merged_dataset/rgb/js_{filename}\")\n",
    "    "
   ]
  },
  {
   "cell_type": "code",
   "execution_count": 138,
   "metadata": {},
   "outputs": [
    {
     "name": "stderr",
     "output_type": "stream",
     "text": [
      "100%|██████████| 50000/50000 [00:09<00:00, 5412.31it/s] \n"
     ]
    }
   ],
   "source": [
    "for image in tqdm(sim_images):\n",
    "    filename = image[\"file_name\"]\n",
    "    shutil.copy(f\"../data/dt_segmentation_dataset/sim/rgb_160_120//{filename}\", f\"merged_dataset/rgb/sim_{filename}\")\n",
    "    "
   ]
  },
  {
   "cell_type": "code",
   "execution_count": 139,
   "metadata": {},
   "outputs": [],
   "source": [
    "#Fresh data\n",
    "with open('../data/duckie_sim_train.json') as json_file:\n",
    "    sim_data = json.load(json_file)\n",
    "with open('../data/duckie_js_train.json') as json_file:\n",
    "    js_data = json.load(json_file)\n",
    "    \n"
   ]
  },
  {
   "cell_type": "code",
   "execution_count": 149,
   "metadata": {},
   "outputs": [],
   "source": [
    "merged_images=[]\n",
    "merged_id = 0\n",
    "js_image_mapping = {}\n",
    "sim_image_mapping = {}\n",
    "for image in js_data[\"images\"]:\n",
    "    new_image = image.copy()\n",
    "    new_image[\"file_name\"] = \"js_\" + image[\"file_name\"]\n",
    "    js_image_mapping[image[\"id\"]] = merged_id\n",
    "    new_image[\"id\"] = merged_id\n",
    "    merged_id+=1\n",
    "    merged_images.append(new_image)\n"
   ]
  },
  {
   "cell_type": "code",
   "execution_count": 150,
   "metadata": {},
   "outputs": [
    {
     "data": {
      "text/plain": [
       "{'file_name': 'js_8313.jpg', 'height': 120, 'width': 160, 'id': 0}"
      ]
     },
     "execution_count": 150,
     "metadata": {},
     "output_type": "execute_result"
    }
   ],
   "source": [
    "merged_images[0]"
   ]
  },
  {
   "cell_type": "code",
   "execution_count": 142,
   "metadata": {},
   "outputs": [],
   "source": [
    "for image in sim_data[\"images\"]:\n",
    "    new_image = image.copy()\n",
    "    new_image[\"file_name\"] = \"sim_\" + image[\"file_name\"]\n",
    "    #print(image[\"id\"])\n",
    "    sim_image_mapping[image[\"id\"]] = merged_id\n",
    "    new_image[\"id\"] = merged_id\n",
    "    merged_id+=1\n",
    "    merged_images.append(new_image)"
   ]
  },
  {
   "cell_type": "code",
   "execution_count": 143,
   "metadata": {},
   "outputs": [
    {
     "data": {
      "text/plain": [
       "(59000, 50000, 9000)"
      ]
     },
     "execution_count": 143,
     "metadata": {},
     "output_type": "execute_result"
    }
   ],
   "source": [
    "len(merged_images), len(sim_images), len(js_images)"
   ]
  },
  {
   "cell_type": "code",
   "execution_count": 144,
   "metadata": {},
   "outputs": [],
   "source": [
    "merged_annotations = []"
   ]
  },
  {
   "cell_type": "code",
   "execution_count": 145,
   "metadata": {},
   "outputs": [],
   "source": [
    "#js_data[\"annotations\"][0]"
   ]
  },
  {
   "cell_type": "code",
   "execution_count": 146,
   "metadata": {},
   "outputs": [],
   "source": [
    "annotation_id = 0\n",
    "for annotation in js_data[\"annotations\"]:\n",
    "    new_annotation = annotation.copy()\n",
    "    new_annotation[\"image_id\"] = js_image_mapping[annotation[\"image_id\"]]\n",
    "    new_annotation[\"id\"] = annotation_id\n",
    "    annotation_id+=1\n",
    "    merged_annotations.append(new_annotation)\n",
    "\n"
   ]
  },
  {
   "cell_type": "code",
   "execution_count": 147,
   "metadata": {},
   "outputs": [],
   "source": [
    "for annotation in sim_data[\"annotations\"]:\n",
    "    new_annotation = annotation.copy()\n",
    "    new_annotation[\"image_id\"] = sim_image_mapping[annotation[\"image_id\"]]\n",
    "    new_annotation[\"id\"] = annotation_id\n",
    "    annotation_id+=1\n",
    "    merged_annotations.append(new_annotation)\n",
    "    "
   ]
  },
  {
   "cell_type": "code",
   "execution_count": 148,
   "metadata": {},
   "outputs": [],
   "source": [
    "data={\"categories\":sim_data[\"categories\"], \"images\":merged_images,\"annotations\":merged_annotations}\n",
    "with open(f\"../data/duckie_merged_train.json\",\"w\") as f:\n",
    "    json.dump(data,f)"
   ]
  },
  {
   "cell_type": "code",
   "execution_count": 151,
   "metadata": {},
   "outputs": [],
   "source": [
    "import glob"
   ]
  },
  {
   "cell_type": "code",
   "execution_count": 155,
   "metadata": {},
   "outputs": [],
   "source": [
    "files = glob.glob(\"merged_dataset/rgb/*.jpg\")\n",
    "import shutil, os"
   ]
  },
  {
   "cell_type": "code",
   "execution_count": 157,
   "metadata": {},
   "outputs": [
    {
     "name": "stderr",
     "output_type": "stream",
     "text": [
      "100%|██████████| 68093/68093 [00:04<00:00, 13933.11it/s]\n"
     ]
    }
   ],
   "source": [
    "for file in tqdm(files):\n",
    "    basename = os.path.basename(file)\n",
    "    shutil.copy(file, f\"../data/dt_segmentation_dataset/merged/rgb/{basename}\")\n",
    "    "
   ]
  },
  {
   "cell_type": "code",
   "execution_count": null,
   "metadata": {},
   "outputs": [],
   "source": []
  }
 ],
 "metadata": {
  "kernelspec": {
   "display_name": "Python 3",
   "language": "python",
   "name": "python3"
  },
  "language_info": {
   "codemirror_mode": {
    "name": "ipython",
    "version": 3
   },
   "file_extension": ".py",
   "mimetype": "text/x-python",
   "name": "python",
   "nbconvert_exporter": "python",
   "pygments_lexer": "ipython3",
   "version": "3.8.3"
  }
 },
 "nbformat": 4,
 "nbformat_minor": 4
}
